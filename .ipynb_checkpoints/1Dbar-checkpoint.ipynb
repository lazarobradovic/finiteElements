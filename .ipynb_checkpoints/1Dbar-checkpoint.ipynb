{
 "cells": [
  {
   "cell_type": "markdown",
   "id": "67b55d10",
   "metadata": {},
   "source": [
    "# Problem definition"
   ]
  },
  {
   "cell_type": "markdown",
   "id": "5df8a9dd",
   "metadata": {},
   "source": [
    "#### In this notebook we will try to understand how a 1D bar deforms when pushed to the right with a 10 N force. The left part of the the bar will be fixed and cannot move."
   ]
  },
  {
   "cell_type": "code",
   "execution_count": 19,
   "id": "c0052c78",
   "metadata": {},
   "outputs": [
    {
     "name": "stdout",
     "output_type": "stream",
     "text": [
      "create mesh\n",
      "<enumerate object at 0x12f27c6c0>\n",
      "material model - plane strain\n",
      "create global stiffness matrix\n",
      "assign nodal forces and boundary conditions\n",
      "solving linear system\n",
      "max u= 1.25\n",
      "plotting displacement\n"
     ]
    },
    {
     "ename": "ValueError",
     "evalue": "cannot reshape array of size 5 into shape (10,)",
     "output_type": "error",
     "traceback": [
      "\u001b[0;31m---------------------------------------------------------------------------\u001b[0m",
      "\u001b[0;31mValueError\u001b[0m                                Traceback (most recent call last)",
      "Cell \u001b[0;32mIn[19], line 83\u001b[0m\n\u001b[1;32m     80\u001b[0m \u001b[38;5;66;03m###############################\u001b[39;00m\n\u001b[1;32m     82\u001b[0m \u001b[38;5;28mprint\u001b[39m(\u001b[38;5;124m'\u001b[39m\u001b[38;5;124mplotting displacement\u001b[39m\u001b[38;5;124m'\u001b[39m)\n\u001b[0;32m---> 83\u001b[0m u \u001b[38;5;241m=\u001b[39m \u001b[43mnp\u001b[49m\u001b[38;5;241;43m.\u001b[39;49m\u001b[43mreshape\u001b[49m\u001b[43m(\u001b[49m\u001b[43mu\u001b[49m\u001b[43m[\u001b[49m\u001b[38;5;241;43m0\u001b[39;49m\u001b[43m:\u001b[49m\u001b[43m:\u001b[49m\u001b[38;5;241;43m2\u001b[39;49m\u001b[43m]\u001b[49m\u001b[43m,\u001b[49m\u001b[43m \u001b[49m\u001b[43m(\u001b[49m\u001b[43mmesh_n\u001b[49m\u001b[43m)\u001b[49m\u001b[43m)\u001b[49m\n\u001b[1;32m     85\u001b[0m \u001b[38;5;28mprint\u001b[39m(\u001b[38;5;124m'\u001b[39m\u001b[38;5;124mnew u = \u001b[39m\u001b[38;5;124m'\u001b[39m,u)\n\u001b[1;32m     86\u001b[0m xvec \u001b[38;5;241m=\u001b[39m []\n",
      "File \u001b[0;32m<__array_function__ internals>:180\u001b[0m, in \u001b[0;36mreshape\u001b[0;34m(*args, **kwargs)\u001b[0m\n",
      "File \u001b[0;32m~/anaconda3/lib/python3.10/site-packages/numpy/core/fromnumeric.py:298\u001b[0m, in \u001b[0;36mreshape\u001b[0;34m(a, newshape, order)\u001b[0m\n\u001b[1;32m    198\u001b[0m \u001b[38;5;129m@array_function_dispatch\u001b[39m(_reshape_dispatcher)\n\u001b[1;32m    199\u001b[0m \u001b[38;5;28;01mdef\u001b[39;00m \u001b[38;5;21mreshape\u001b[39m(a, newshape, order\u001b[38;5;241m=\u001b[39m\u001b[38;5;124m'\u001b[39m\u001b[38;5;124mC\u001b[39m\u001b[38;5;124m'\u001b[39m):\n\u001b[1;32m    200\u001b[0m     \u001b[38;5;124;03m\"\"\"\u001b[39;00m\n\u001b[1;32m    201\u001b[0m \u001b[38;5;124;03m    Gives a new shape to an array without changing its data.\u001b[39;00m\n\u001b[1;32m    202\u001b[0m \n\u001b[0;32m   (...)\u001b[0m\n\u001b[1;32m    296\u001b[0m \u001b[38;5;124;03m           [5, 6]])\u001b[39;00m\n\u001b[1;32m    297\u001b[0m \u001b[38;5;124;03m    \"\"\"\u001b[39;00m\n\u001b[0;32m--> 298\u001b[0m     \u001b[38;5;28;01mreturn\u001b[39;00m \u001b[43m_wrapfunc\u001b[49m\u001b[43m(\u001b[49m\u001b[43ma\u001b[49m\u001b[43m,\u001b[49m\u001b[43m \u001b[49m\u001b[38;5;124;43m'\u001b[39;49m\u001b[38;5;124;43mreshape\u001b[39;49m\u001b[38;5;124;43m'\u001b[39;49m\u001b[43m,\u001b[49m\u001b[43m \u001b[49m\u001b[43mnewshape\u001b[49m\u001b[43m,\u001b[49m\u001b[43m \u001b[49m\u001b[43morder\u001b[49m\u001b[38;5;241;43m=\u001b[39;49m\u001b[43morder\u001b[49m\u001b[43m)\u001b[49m\n",
      "File \u001b[0;32m~/anaconda3/lib/python3.10/site-packages/numpy/core/fromnumeric.py:57\u001b[0m, in \u001b[0;36m_wrapfunc\u001b[0;34m(obj, method, *args, **kwds)\u001b[0m\n\u001b[1;32m     54\u001b[0m     \u001b[38;5;28;01mreturn\u001b[39;00m _wrapit(obj, method, \u001b[38;5;241m*\u001b[39margs, \u001b[38;5;241m*\u001b[39m\u001b[38;5;241m*\u001b[39mkwds)\n\u001b[1;32m     56\u001b[0m \u001b[38;5;28;01mtry\u001b[39;00m:\n\u001b[0;32m---> 57\u001b[0m     \u001b[38;5;28;01mreturn\u001b[39;00m \u001b[43mbound\u001b[49m\u001b[43m(\u001b[49m\u001b[38;5;241;43m*\u001b[39;49m\u001b[43margs\u001b[49m\u001b[43m,\u001b[49m\u001b[43m \u001b[49m\u001b[38;5;241;43m*\u001b[39;49m\u001b[38;5;241;43m*\u001b[39;49m\u001b[43mkwds\u001b[49m\u001b[43m)\u001b[49m\n\u001b[1;32m     58\u001b[0m \u001b[38;5;28;01mexcept\u001b[39;00m \u001b[38;5;167;01mTypeError\u001b[39;00m:\n\u001b[1;32m     59\u001b[0m     \u001b[38;5;66;03m# A TypeError occurs if the object does have such a method in its\u001b[39;00m\n\u001b[1;32m     60\u001b[0m     \u001b[38;5;66;03m# class, but its signature is not identical to that of NumPy's. This\u001b[39;00m\n\u001b[0;32m   (...)\u001b[0m\n\u001b[1;32m     64\u001b[0m     \u001b[38;5;66;03m# Call _wrapit from within the except clause to ensure a potential\u001b[39;00m\n\u001b[1;32m     65\u001b[0m     \u001b[38;5;66;03m# exception has a traceback chain.\u001b[39;00m\n\u001b[1;32m     66\u001b[0m     \u001b[38;5;28;01mreturn\u001b[39;00m _wrapit(obj, method, \u001b[38;5;241m*\u001b[39margs, \u001b[38;5;241m*\u001b[39m\u001b[38;5;241m*\u001b[39mkwds)\n",
      "\u001b[0;31mValueError\u001b[0m: cannot reshape array of size 5 into shape (10,)"
     ]
    }
   ],
   "source": [
    "import numpy as np\n",
    "import math\n",
    "from matplotlib import pyplot as plt\n",
    "\n",
    "def shape(x):\n",
    "    N = [1-x,x]\n",
    "    return np.array(N)\n",
    "\n",
    "def gradshape():\n",
    "    dN = [-1,1]\n",
    "    return np.array(dN)\n",
    "\n",
    "# Creating the mesh\n",
    "\n",
    "print('create mesh')\n",
    "mesh_e = 9 # number of elements (1D)\n",
    "mesh_n = mesh_e + 1 # number of nodes\n",
    "mesh_l = 10.0\n",
    "mesh_h = mesh_l / mesh_e\n",
    "\n",
    "nodes = []\n",
    "for y in np.linspace(0.0,mesh_l,mesh_n):\n",
    "    nodes.append([y])\n",
    "nodes = np.array(nodes)\n",
    "\n",
    "# Defining the connections, but how are they defined ? It's a list of all the connecion of nodes (ie 0-1,1-2,2-3).\n",
    "conn = []\n",
    "for y in range(mesh_e):\n",
    "    conn.append([y,y+1])\n",
    "    \n",
    "print(enumerate(conn[1]))\n",
    "\n",
    "# Creating the material model\n",
    "print('material model - plane strain')\n",
    "E = 100.0 # Young modulus\n",
    "A = 2.0 # Cross-sectional area\n",
    "v = 0.48\n",
    "C = E*A/mesh_l * np.array([[1,-1],\n",
    "                        [-1, 1]])\n",
    "\n",
    "# Create stiffness matrix\n",
    "print('create global stiffness matrix')\n",
    "K = np.zeros((mesh_n,mesh_n)) # Global stiffness matrix has dimensions (dof*nodes) x (dof*nodes) - initialized\n",
    "B = np.zeros((1,2)) # Not the right dimensions !!\n",
    "\n",
    "### --- here enter some code to define Ke, etc.\n",
    "\n",
    "for c in conn:\n",
    "    xIe = nodes[c,:]\n",
    "    Ke = np.zeros((2,2))\n",
    "\n",
    "    dN = gradshape()\n",
    "    J  = np.dot(dN,xIe) # What is T ? -> Transposed\n",
    "    dN = dN / J\n",
    "    B[0,0::1] = dN[:] ## In 1D, B is just [N1,x N2,x] = gradshape() ?\n",
    "    Ke += np.dot(np.dot(B,C),B.T) * J\n",
    "    \n",
    "    for i,I in enumerate(c): # These loops are how the local-to-global map are defined\n",
    "        for j,J in enumerate(c):\n",
    "            K[I,J]     += Ke[i,j]\n",
    "\n",
    "print('assign nodal forces and boundary conditions')\n",
    "f = np.zeros((mesh_n))\n",
    "for i in range(mesh_n):\n",
    "    if nodes[i] == 0.0:\n",
    "        K[i,:]     = 0.0\n",
    "        K[i,i]   = 1.0\n",
    "    if nodes[i] == mesh_l:\n",
    "        x = nodes[i]\n",
    "        f[i] = 20.0\n",
    "        if x == 0.0 or x == mesh_l:\n",
    "            f[i] *= 0.5\n",
    "            \n",
    "###############################\n",
    "\n",
    "print('solving linear system')\n",
    "u = np.linalg.solve(K, f)\n",
    "print('max u=', max(u))\n",
    "\n",
    "###############################\n",
    "\n",
    "print('plotting displacement')\n",
    "u = np.reshape(u[:], (mesh_n))\n",
    "\n",
    "print('new u = ',u)\n",
    "xvec = []\n",
    "yvec = []\n",
    "res  = []\n",
    "for i in range(mesh_nx):\n",
    "    for j in range(mesh_ny):\n",
    "        xvec.append(i*mesh_hx + ux[j,i])\n",
    "        yvec.append(j*mesh_hy + uy[j,i])\n",
    "        res.append(uy[j,i])\n",
    "t = plt.tricontourf(xvec, yvec, res, levels=14, cmap=plt.cm.jet)\n",
    "plt.scatter(xvec, yvec, marker='o', c='b', s=2)\n",
    "plt.grid()\n",
    "plt.colorbar(t)\n",
    "plt.axis('equal')\n",
    "plt.show()\n"
   ]
  },
  {
   "cell_type": "code",
   "execution_count": null,
   "id": "b8e4a7f0",
   "metadata": {},
   "outputs": [],
   "source": []
  },
  {
   "cell_type": "code",
   "execution_count": null,
   "id": "819ceed7",
   "metadata": {},
   "outputs": [],
   "source": []
  }
 ],
 "metadata": {
  "kernelspec": {
   "display_name": "Python 3 (ipykernel)",
   "language": "python",
   "name": "python3"
  },
  "language_info": {
   "codemirror_mode": {
    "name": "ipython",
    "version": 3
   },
   "file_extension": ".py",
   "mimetype": "text/x-python",
   "name": "python",
   "nbconvert_exporter": "python",
   "pygments_lexer": "ipython3",
   "version": "3.10.9"
  }
 },
 "nbformat": 4,
 "nbformat_minor": 5
}
