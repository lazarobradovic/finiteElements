{
 "cells": [
  {
   "cell_type": "markdown",
   "id": "67b55d10",
   "metadata": {},
   "source": [
    "# Problem definition"
   ]
  },
  {
   "cell_type": "markdown",
   "id": "5df8a9dd",
   "metadata": {},
   "source": [
    "#### In this notebook we will try to understand how a 1D bar deforms when pushed to the right with a 10 N force. The left part of the the bar will be fixed and cannot move."
   ]
  },
  {
   "cell_type": "code",
   "execution_count": 33,
   "id": "c0052c78",
   "metadata": {},
   "outputs": [
    {
     "name": "stdout",
     "output_type": "stream",
     "text": [
      "create mesh\n",
      "<enumerate object at 0x13aa75780>\n",
      "material model - plane strain\n",
      "create global stiffness matrix\n",
      "[-1  1]\n",
      "[[0.        ]\n",
      " [1.11111111]]\n",
      "first loop\n",
      "[1.11111111]\n"
     ]
    },
    {
     "ename": "NameError",
     "evalue": "name 'B' is not defined",
     "output_type": "error",
     "traceback": [
      "\u001b[0;31m---------------------------------------------------------------------------\u001b[0m",
      "\u001b[0;31mNameError\u001b[0m                                 Traceback (most recent call last)",
      "Cell \u001b[0;32mIn[33], line 59\u001b[0m\n\u001b[1;32m     57\u001b[0m \u001b[38;5;28mprint\u001b[39m(J)\n\u001b[1;32m     58\u001b[0m dN \u001b[38;5;241m=\u001b[39m dN \u001b[38;5;241m/\u001b[39m J\n\u001b[0;32m---> 59\u001b[0m \u001b[43mB\u001b[49m[\u001b[38;5;241m0\u001b[39m,\u001b[38;5;241m0\u001b[39m::\u001b[38;5;241m1\u001b[39m] \u001b[38;5;241m=\u001b[39m dN[:]\n\u001b[1;32m     60\u001b[0m \u001b[38;5;66;03m# B[1,1::2] = dN[:]\u001b[39;00m\n\u001b[1;32m     61\u001b[0m \u001b[38;5;66;03m# B[2,0::2] = dN[1,:]\u001b[39;00m\n\u001b[1;32m     62\u001b[0m \u001b[38;5;66;03m# B[2,1::2] = dN[0,:]\u001b[39;00m\n\u001b[1;32m     63\u001b[0m \u001b[38;5;66;03m# Ke += np.dot(np.dot(B.T,C),B) * np.linalg.det(J)\u001b[39;00m\n\u001b[1;32m     65\u001b[0m \u001b[38;5;28;01mfor\u001b[39;00m i,I \u001b[38;5;129;01min\u001b[39;00m \u001b[38;5;28menumerate\u001b[39m(c): \u001b[38;5;66;03m# These loops are how the local-to-global map are defined\u001b[39;00m\n",
      "\u001b[0;31mNameError\u001b[0m: name 'B' is not defined"
     ]
    }
   ],
   "source": [
    "import numpy as np\n",
    "import math\n",
    "from matplotlib import pyplot as plt\n",
    "\n",
    "def shape(x):\n",
    "    N = [1-x,x]\n",
    "    return np.array(N)\n",
    "\n",
    "def gradshape():\n",
    "    dN = [-1,1]\n",
    "    return np.array(dN)\n",
    "\n",
    "# Creating the mesh\n",
    "\n",
    "print('create mesh')\n",
    "mesh_e = 9 # number of elements (1D)\n",
    "mesh_n = mesh_e + 1 # number of nodes\n",
    "mesh_l = 10.0\n",
    "mesh_h = mesh_l / mesh_e\n",
    "\n",
    "nodes = []\n",
    "for y in np.linspace(0.0,mesh_l,mesh_n):\n",
    "    nodes.append([y])\n",
    "nodes = np.array(nodes)\n",
    "\n",
    "# Defining the connections, but how are they defined ? It's a list of all the connecion of nodes (ie 0-1,1-2,2-3).\n",
    "conn = []\n",
    "for y in range(mesh_e):\n",
    "    conn.append([y,y+1])\n",
    "    \n",
    "print(enumerate(conn[1]))\n",
    "\n",
    "# Creating the material model\n",
    "print('material model - plane strain')\n",
    "E = 100.0 # Young modulus\n",
    "A = 2.0 # Cross-sectional area\n",
    "v = 0.48\n",
    "C = E*A/mesh_l * np.array([[1,-1],\n",
    "                        [-1, 1]])\n",
    "\n",
    "# Create stiffness matrix\n",
    "print('create global stiffness matrix')\n",
    "K = np.zeros((mesh_n,mesh_n)) # Global stiffness matrix has dimensions (dof*nodes) x (dof*nodes) - initialized\n",
    "B = np.zeros((?,?)) # Not the right dimensions !!\n",
    "\n",
    "### --- here enter some code to define Ke, etc.\n",
    "\n",
    "for c in conn:\n",
    "    xIe = nodes[c,:]\n",
    "    Ke = np.zeros((2,2))\n",
    "\n",
    "    dN = gradshape()\n",
    "    print(dN)\n",
    "    print(xIe)\n",
    "    J  = np.dot(dN,xIe).T # What is T ? -> Transposed\n",
    "    print('first loop')\n",
    "    print(J)\n",
    "    dN = dN / J\n",
    "    B[0,0::1] = dN[:]\n",
    "    B[1,1::2] = dN[:]\n",
    "    B[2,0::2] = dN[1,:]\n",
    "    B[2,1::2] = dN[0,:]\n",
    "    Ke += np.dot(np.dot(B.T,C),B) * np.linalg.det(J)\n",
    "    \n",
    "    for i,I in enumerate(c): # These loops are how the local-to-global map are defined\n",
    "        for j,J in enumerate(c):\n",
    "            K[2*I,2*J]     += Ke[2*i,2*j]\n",
    "            K[2*I+1,2*J]   += Ke[2*i+1,2*j]\n",
    "            K[2*I+1,2*J+1] += Ke[2*i+1,2*j+1]\n",
    "            K[2*I,2*J+1]   += Ke[2*i,2*j+1]"
   ]
  },
  {
   "cell_type": "code",
   "execution_count": null,
   "id": "b8e4a7f0",
   "metadata": {},
   "outputs": [],
   "source": []
  },
  {
   "cell_type": "code",
   "execution_count": null,
   "id": "819ceed7",
   "metadata": {},
   "outputs": [],
   "source": []
  }
 ],
 "metadata": {
  "kernelspec": {
   "display_name": "Python 3 (ipykernel)",
   "language": "python",
   "name": "python3"
  },
  "language_info": {
   "codemirror_mode": {
    "name": "ipython",
    "version": 3
   },
   "file_extension": ".py",
   "mimetype": "text/x-python",
   "name": "python",
   "nbconvert_exporter": "python",
   "pygments_lexer": "ipython3",
   "version": "3.10.9"
  }
 },
 "nbformat": 4,
 "nbformat_minor": 5
}
